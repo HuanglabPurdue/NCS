{
 "cells": [
  {
   "cell_type": "markdown",
   "metadata": {},
   "source": [
    "## NCS using Tensorflow versus C.\n",
    "\n",
    "This notebook compares the performance of Tensorflow versus the C library for NCS. Note that this works a little differently then the usual approach. Here we solve the entire image in a single step rather than breaking it up into lots of sub-images. This works fine at least for the simulated image as it isn't too large. Both Tensorflow and the C library are fairly memory efficient.\n",
    "\n",
    "Timing was done with the CPU version of Tensorflow. The GPU version might be faster?\n",
    "\n",
    "In order for this to work you need both the reference NCS/python3-6 Python module and the NCS/clib Python module in your Python path.\n"
   ]
  },
  {
   "cell_type": "code",
   "execution_count": null,
   "metadata": {},
   "outputs": [],
   "source": [
    "import matplotlib\n",
    "import matplotlib.pyplot as pyplot\n",
    "import numpy\n",
    "import os\n",
    "import time\n",
    "\n",
    "# tensorflow\n",
    "import tensorflow as tf\n",
    "from tensorflow.python.training import adagrad\n",
    "from tensorflow.python.training import adam\n",
    "from tensorflow.python.training import gradient_descent\n",
    "\n",
    "# python3-6 NCS. This provideds the OTF and the simulated images.\n",
    "import pyNCS\n",
    "import pyNCS.denoisetools as ncs\n",
    "\n",
    "# python3 and C NCS.\n",
    "import pyCNCS.ncs_c as ncsC\n",
    "\n",
    "# Generate the same random noise each time.\n",
    "numpy.random.seed(1)\n"
   ]
  },
  {
   "cell_type": "code",
   "execution_count": null,
   "metadata": {},
   "outputs": [],
   "source": [
    "py_ncs_path = os.path.dirname(os.path.abspath(pyNCS.__file__))\n",
    "print(py_ncs_path)"
   ]
  },
  {
   "cell_type": "markdown",
   "metadata": {},
   "source": [
    "### pyNCS analysis\n",
    "\n",
    "This is a basically a copy of NCS/python3-6/NCSdemo_simulation.py"
   ]
  },
  {
   "cell_type": "code",
   "execution_count": null,
   "metadata": {},
   "outputs": [],
   "source": [
    "# create normalized ideal image\n",
    "fpath1 = os.path.join(py_ncs_path, \"../randwlcposition.mat\")\n",
    "imgsz = 128\n",
    "zoom = 8\n",
    "Pixelsize = 0.1\n",
    "NA = 1.4\n",
    "Lambda = 0.7\n",
    "t = time.time()\n",
    "res = ncs.genidealimage(imgsz,Pixelsize,zoom,NA,Lambda,fpath1)\n",
    "elapsed = time.time()-t\n",
    "print('Elapsed time for generating ideal image:', elapsed)\n",
    "imso = res[0]\n",
    "pyplot.imshow(imso,cmap=\"gray\")\n",
    "    \n",
    "# select variance map from calibrated map data\n",
    "fpath = os.path.join(py_ncs_path, \"../gaincalibration_561_gain.mat\")        \n",
    "noisemap = ncs.gennoisemap(imgsz,fpath)\n",
    "varsub = noisemap[0]*10 # increase the readout noise by 10 to demonstrate the effect of NCS algorithm\n",
    "gainsub = noisemap[1]\n",
    "    \n",
    "# generate simulated data\n",
    "I = 100\n",
    "bg = 10\n",
    "offset = 100\n",
    "N = 1\n",
    "dataimg = ncs.gendatastack(imso,varsub,gainsub,I,bg,offset,N)\n",
    "imsd = dataimg[1]\n",
    "\n",
    "print(imsd.shape)"
   ]
  },
  {
   "cell_type": "code",
   "execution_count": null,
   "metadata": {},
   "outputs": [],
   "source": [
    "alpha = 0.1"
   ]
  },
  {
   "cell_type": "markdown",
   "metadata": {},
   "source": [
    "## pyCNCS analysis\n",
    "\n",
    "Mixed C and Python NCS analysis."
   ]
  },
  {
   "cell_type": "code",
   "execution_count": null,
   "metadata": {},
   "outputs": [],
   "source": [
    "# Get the OTF mask that NCSDemo_simulation.py used.\n",
    "rcfilter = ncs.genfilter(128,Pixelsize,NA,Lambda,'OTFweighted',1,0.7)\n",
    "\n",
    "print(rcfilter.shape)\n",
    "\n",
    "pyplot.imshow(rcfilter, cmap = \"gray\")\n",
    "pyplot.show()"
   ]
  },
  {
   "cell_type": "code",
   "execution_count": null,
   "metadata": {},
   "outputs": [],
   "source": [
    "# Calculate gamma and run Python/C NCS.\n",
    "gamma = varsub/(gainsub*gainsub)\n"
   ]
  },
  {
   "cell_type": "code",
   "execution_count": null,
   "metadata": {},
   "outputs": [],
   "source": [
    "# This takes ~100ms on my laptop.\n",
    "out_c = ncsC.pyReduceNoise(imsd[0], gamma, rcfilter, alpha)"
   ]
  },
  {
   "cell_type": "markdown",
   "metadata": {},
   "source": [
    "#### Compare results to reference implementation."
   ]
  },
  {
   "cell_type": "code",
   "execution_count": null,
   "metadata": {},
   "outputs": [],
   "source": [
    "f,(ax1,ax2) = pyplot.subplots(1,2,sharey=False,figsize = (8,8))\n",
    "ax1.imshow(imsd[0],aspect='equal',cmap=\"gray\")\n",
    "ax2.imshow(out_c,aspect ='equal',cmap=\"gray\")\n",
    "pyplot.show()"
   ]
  },
  {
   "cell_type": "markdown",
   "metadata": {},
   "source": [
    "### Tensorflow"
   ]
  },
  {
   "cell_type": "code",
   "execution_count": null,
   "metadata": {},
   "outputs": [],
   "source": [
    "py_otf_mask = numpy.fft.fftshift(rcfilter.astype(numpy.float32))\n",
    "\n",
    "FITMIN = tf.constant(1.0e-6)\n",
    "\n",
    "tf_alpha = tf.constant(numpy.float32(alpha))\n",
    "tf_data = tf.Variable(imsd[0].astype(numpy.float32), shape = (128, 128), trainable=False)\n",
    "tf_gamma = tf.constant(gamma.astype(numpy.float32))\n",
    "tf_rc = tf.constant(py_otf_mask*py_otf_mask/(128.0*128.0))\n",
    "tf_u = tf.Variable(imsd[0].astype(numpy.float32), shape = (128, 128), trainable=True)\n"
   ]
  },
  {
   "cell_type": "code",
   "execution_count": null,
   "metadata": {},
   "outputs": [],
   "source": [
    "# Tensorflow cost function.\n",
    "@tf.function\n",
    "def cost():\n",
    "    \n",
    "    ## LL\n",
    "    t1 = tf.math.add(tf_data, tf_gamma)\n",
    "    t2 = tf.math.add(tf_u, tf_gamma)\n",
    "    t2 = tf.math.maximum(t2, FITMIN)\n",
    "    t2 = tf.math.log(t2)\n",
    "    t2 = tf.math.multiply(t1, t2)\n",
    "    t2 = tf.math.subtract(tf_u, t2)\n",
    "    c1 = tf.math.reduce_sum(t2)\n",
    "    \n",
    "    ## NC\n",
    "    t1 = tf.dtypes.complex(tf_u, tf.zeros_like(tf_u))\n",
    "    t2 = tf.signal.fft2d(t1)\n",
    "    t2 = tf.math.multiply(t2, tf.math.conj(t2))\n",
    "    t2 = tf.math.abs(t2)\n",
    "    t2 = tf.math.multiply(t2, tf_rc)\n",
    "    c2 = tf.math.reduce_sum(t2)\n",
    "    c2 = tf.math.multiply(tf_alpha, c2)\n",
    "\n",
    "    return tf.math.add(c1, c2)\n"
   ]
  },
  {
   "cell_type": "code",
   "execution_count": null,
   "metadata": {},
   "outputs": [],
   "source": [
    "# Gradient Descent Optimizer. \n",
    "#\n",
    "# This takes ~700ms on my laptop, so about 7x slower.\n",
    "\n",
    "tf_data.assign(numpy.copy(imsd[0]))\n",
    "tf_u.assign(tf_data.numpy())\n",
    "\n",
    "for i in range(100):\n",
    "    if((i%10)==0):\n",
    "        print(cost().numpy())\n",
    "    opt = gradient_descent.GradientDescentOptimizer(2.0).minimize(cost)\n",
    "\n",
    "out_tf = tf_u.numpy()\n"
   ]
  },
  {
   "cell_type": "code",
   "execution_count": null,
   "metadata": {},
   "outputs": [],
   "source": [
    "f,(ax1,ax2) = pyplot.subplots(1,2,sharey=False,figsize = (8,4))\n",
    "ax1.imshow(out_c,aspect='equal',cmap=\"gray\")\n",
    "ax2.imshow(out_tf,aspect ='equal',cmap=\"gray\")\n",
    "pyplot.show()\n"
   ]
  },
  {
   "cell_type": "code",
   "execution_count": null,
   "metadata": {},
   "outputs": [],
   "source": [
    "print(\"Maximum pixel difference is {0:.3f}e-\".format(numpy.max(numpy.abs(out_c - out_tf))))"
   ]
  },
  {
   "cell_type": "code",
   "execution_count": null,
   "metadata": {},
   "outputs": [],
   "source": [
    "# AdamOptimizer.\n",
    "#\n",
    "# This takes ~1.5ms on my laptop, so about 15x slower.\n",
    "\n",
    "tf_data.assign(numpy.copy(imsd[0]))\n",
    "tf_u.assign(tf_data.numpy())\n",
    "\n",
    "for i in range(100):\n",
    "    if((i%10)==0):\n",
    "        print(cost().numpy())\n",
    "    opt = adam.AdamOptimizer(0.8).minimize(cost)\n",
    "\n",
    "out_tf_2 = tf_u.numpy()\n"
   ]
  },
  {
   "cell_type": "code",
   "execution_count": null,
   "metadata": {},
   "outputs": [],
   "source": [
    "f,(ax1,ax2) = pyplot.subplots(1,2,sharey=False,figsize = (8,4))\n",
    "ax1.imshow(out_c,aspect='equal',cmap=\"gray\")\n",
    "ax2.imshow(out_tf_2,aspect ='equal',cmap=\"gray\")\n",
    "pyplot.show()\n"
   ]
  },
  {
   "cell_type": "code",
   "execution_count": null,
   "metadata": {},
   "outputs": [],
   "source": [
    "print(\"Maximum pixel difference is {0:.3f}e-\".format(numpy.max(numpy.abs(out_c - out_tf_2))))"
   ]
  },
  {
   "cell_type": "code",
   "execution_count": null,
   "metadata": {},
   "outputs": [],
   "source": [
    "# Adagrad.\n",
    "#\n",
    "# This takes ~950ms on my laptop, so about 9.5x slower.\n",
    "\n",
    "tf_data.assign(numpy.copy(imsd[0]))\n",
    "tf_u.assign(tf_data.numpy())\n",
    "\n",
    "for i in range(100):\n",
    "    if((i%10)==0):\n",
    "        print(cost().numpy())\n",
    "    opt = adagrad.AdagradOptimizer(0.8).minimize(cost)\n",
    "\n",
    "out_tf_3 = tf_u.numpy()\n"
   ]
  },
  {
   "cell_type": "code",
   "execution_count": null,
   "metadata": {},
   "outputs": [],
   "source": [
    "f,(ax1,ax2) = pyplot.subplots(1,2,sharey=False,figsize = (8,4))\n",
    "ax1.imshow(out_c,aspect='equal',cmap=\"gray\")\n",
    "ax2.imshow(out_tf_3,aspect ='equal',cmap=\"gray\")\n",
    "pyplot.show()\n"
   ]
  },
  {
   "cell_type": "code",
   "execution_count": null,
   "metadata": {},
   "outputs": [],
   "source": [
    "print(\"Maximum pixel difference is {0:.3f}e-\".format(numpy.max(numpy.abs(out_c - out_tf_3))))"
   ]
  },
  {
   "cell_type": "code",
   "execution_count": null,
   "metadata": {},
   "outputs": [],
   "source": []
  }
 ],
 "metadata": {
  "kernelspec": {
   "display_name": "tensorflow",
   "language": "python",
   "name": "tensorflow"
  },
  "language_info": {
   "codemirror_mode": {
    "name": "ipython",
    "version": 3
   },
   "file_extension": ".py",
   "mimetype": "text/x-python",
   "name": "python",
   "nbconvert_exporter": "python",
   "pygments_lexer": "ipython3",
   "version": "3.6.8"
  }
 },
 "nbformat": 4,
 "nbformat_minor": 2
}
